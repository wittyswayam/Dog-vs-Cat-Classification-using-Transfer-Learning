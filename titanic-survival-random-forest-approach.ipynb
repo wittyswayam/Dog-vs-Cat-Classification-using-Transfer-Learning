{
 "cells": [
  {
   "cell_type": "markdown",
   "id": "0568e889",
   "metadata": {
    "_cell_guid": "3aa7beb5-d33d-4f68-8500-ca29d99fb283",
    "_uuid": "e2baef15-6741-4e1b-8a8c-04422f5cc9b3",
    "collapsed": false,
    "jupyter": {
     "outputs_hidden": false
    },
    "papermill": {
     "duration": 0.007003,
     "end_time": "2025-08-19T10:50:41.024476",
     "exception": false,
     "start_time": "2025-08-19T10:50:41.017473",
     "status": "completed"
    },
    "tags": []
   },
   "source": [
    "# Predicting Titanic Survival – Random Forest Approach\n",
    "\n",
    "Predicting passenger survival on the Titanic using Random Forest. We start with baseline features, measure accuracy, then perform feature engineering (Titles, FamilySize, HasCabin) to improve performance."
   ]
  },
  {
   "cell_type": "markdown",
   "id": "79dd5e9f",
   "metadata": {
    "_cell_guid": "7870684f-15db-481f-8ace-b1ba568bd5a5",
    "_uuid": "bd55be1c-2190-4c4d-b8cf-9c9dcc6138fe",
    "collapsed": false,
    "jupyter": {
     "outputs_hidden": false
    },
    "papermill": {
     "duration": 0.005719,
     "end_time": "2025-08-19T10:50:41.036470",
     "exception": false,
     "start_time": "2025-08-19T10:50:41.030751",
     "status": "completed"
    },
    "tags": []
   },
   "source": [
    "## Analysis and Predictions"
   ]
  },
  {
   "cell_type": "markdown",
   "id": "30ff7993",
   "metadata": {
    "_cell_guid": "28c12f1d-ba91-449b-8e01-47d177413ede",
    "_uuid": "c4f0b4f1-0886-494c-afe8-971d9da1fcb8",
    "collapsed": false,
    "jupyter": {
     "outputs_hidden": false
    },
    "papermill": {
     "duration": 0.005913,
     "end_time": "2025-08-19T10:50:41.048788",
     "exception": false,
     "start_time": "2025-08-19T10:50:41.042875",
     "status": "completed"
    },
    "tags": []
   },
   "source": [
    "### Load Libraries and Data\n",
    "Import the necessary Python libraries and load the Titanic dataset. Pandas is used for data manipulation, and scikit-learn provides modeling tools."
   ]
  },
  {
   "cell_type": "code",
   "execution_count": 1,
   "id": "fbd02f75",
   "metadata": {
    "_cell_guid": "0d716a4e-bdcf-4b20-a49e-c2201523c503",
    "_uuid": "46c3a3a8-add9-4f26-81da-bc13b7e9d9fd",
    "collapsed": false,
    "execution": {
     "iopub.execute_input": "2025-08-19T10:50:41.063396Z",
     "iopub.status.busy": "2025-08-19T10:50:41.063072Z",
     "iopub.status.idle": "2025-08-19T10:50:41.071080Z",
     "shell.execute_reply": "2025-08-19T10:50:41.070199Z"
    },
    "jupyter": {
     "outputs_hidden": false
    },
    "papermill": {
     "duration": 0.018009,
     "end_time": "2025-08-19T10:50:41.072819",
     "exception": false,
     "start_time": "2025-08-19T10:50:41.054810",
     "status": "completed"
    },
    "tags": []
   },
   "outputs": [],
   "source": [
    "import warnings\n",
    "\n",
    "# Suppress FutureWarnings\n",
    "warnings.simplefilter(action='ignore', category=FutureWarning)"
   ]
  },
  {
   "cell_type": "code",
   "execution_count": 2,
   "id": "10ecbfc4",
   "metadata": {
    "_cell_guid": "dc57682d-8cfe-43eb-9b34-d2ce01726790",
    "_uuid": "48fd09bc-3ce6-4f59-9650-fd77748b0969",
    "collapsed": false,
    "execution": {
     "iopub.execute_input": "2025-08-19T10:50:41.087326Z",
     "iopub.status.busy": "2025-08-19T10:50:41.086963Z",
     "iopub.status.idle": "2025-08-19T10:50:45.961193Z",
     "shell.execute_reply": "2025-08-19T10:50:45.960120Z"
    },
    "jupyter": {
     "outputs_hidden": false
    },
    "papermill": {
     "duration": 4.883239,
     "end_time": "2025-08-19T10:50:45.962840",
     "exception": false,
     "start_time": "2025-08-19T10:50:41.079601",
     "status": "completed"
    },
    "tags": []
   },
   "outputs": [],
   "source": [
    "import os\n",
    "import pandas as pd\n",
    "import numpy as np\n",
    "import matplotlib.pyplot as plt\n",
    "import seaborn as sns\n",
    "from sklearn.model_selection import train_test_split\n",
    "from sklearn.ensemble import RandomForestClassifier\n",
    "from sklearn.metrics import accuracy_score"
   ]
  },
  {
   "cell_type": "code",
   "execution_count": 3,
   "id": "661643ef",
   "metadata": {
    "_cell_guid": "58ca5ce3-08c0-4f19-adda-bad829afed77",
    "_uuid": "339e70a6-a250-4539-8fc8-24b591535a9c",
    "collapsed": false,
    "execution": {
     "iopub.execute_input": "2025-08-19T10:50:45.977076Z",
     "iopub.status.busy": "2025-08-19T10:50:45.976552Z",
     "iopub.status.idle": "2025-08-19T10:50:45.984030Z",
     "shell.execute_reply": "2025-08-19T10:50:45.983119Z"
    },
    "jupyter": {
     "outputs_hidden": false
    },
    "papermill": {
     "duration": 0.016207,
     "end_time": "2025-08-19T10:50:45.985541",
     "exception": false,
     "start_time": "2025-08-19T10:50:45.969334",
     "status": "completed"
    },
    "tags": []
   },
   "outputs": [
    {
     "data": {
      "text/plain": [
       "['titanic']"
      ]
     },
     "execution_count": 3,
     "metadata": {},
     "output_type": "execute_result"
    }
   ],
   "source": [
    "# Check where the kaggle files are\n",
    "os.listdir(\"/kaggle/input/\")"
   ]
  },
  {
   "cell_type": "code",
   "execution_count": 4,
   "id": "57fea0a2",
   "metadata": {
    "_cell_guid": "6fcb1014-96c9-46e0-bb22-2d03f0ed2e12",
    "_uuid": "b1c974fe-640f-4179-af9e-a3a312c8d270",
    "collapsed": false,
    "execution": {
     "iopub.execute_input": "2025-08-19T10:50:45.999649Z",
     "iopub.status.busy": "2025-08-19T10:50:45.999358Z",
     "iopub.status.idle": "2025-08-19T10:50:46.033534Z",
     "shell.execute_reply": "2025-08-19T10:50:46.032305Z"
    },
    "jupyter": {
     "outputs_hidden": false
    },
    "papermill": {
     "duration": 0.043341,
     "end_time": "2025-08-19T10:50:46.035301",
     "exception": false,
     "start_time": "2025-08-19T10:50:45.991960",
     "status": "completed"
    },
    "tags": []
   },
   "outputs": [],
   "source": [
    "# Read the file\n",
    "df = pd.read_csv(\"/kaggle/input/titanic/train.csv\")\n",
    "\n",
    "# Replace infinite values with NaN to avoid plotting warnings\n",
    "df.replace([np.inf, -np.inf], np.nan, inplace=True)"
   ]
  },
  {
   "cell_type": "markdown",
   "id": "ada0cb99",
   "metadata": {
    "_cell_guid": "edf9ee1c-1eb8-485d-907c-69b19b62fbba",
    "_uuid": "99a993be-3a45-4623-ad46-a7eb2df954f9",
    "collapsed": false,
    "jupyter": {
     "outputs_hidden": false
    },
    "papermill": {
     "duration": 0.007294,
     "end_time": "2025-08-19T10:50:46.049800",
     "exception": false,
     "start_time": "2025-08-19T10:50:46.042506",
     "status": "completed"
    },
    "tags": []
   },
   "source": [
    "### Show unmodified data, data types and general info"
   ]
  },
  {
   "cell_type": "code",
   "execution_count": 5,
   "id": "b48968ab",
   "metadata": {
    "_cell_guid": "da0eaa0d-6e9f-43ae-bc68-dac730a41770",
    "_uuid": "19d63458-ca52-4277-9871-eac2702a1575",
    "collapsed": false,
    "execution": {
     "iopub.execute_input": "2025-08-19T10:50:46.063840Z",
     "iopub.status.busy": "2025-08-19T10:50:46.063541Z",
     "iopub.status.idle": "2025-08-19T10:50:46.092602Z",
     "shell.execute_reply": "2025-08-19T10:50:46.091275Z"
    },
    "jupyter": {
     "outputs_hidden": false
    },
    "papermill": {
     "duration": 0.038471,
     "end_time": "2025-08-19T10:50:46.094791",
     "exception": false,
     "start_time": "2025-08-19T10:50:46.056320",
     "status": "completed"
    },
    "tags": []
   },
   "outputs": [
    {
     "data": {
      "text/html": [
       "<div>\n",
       "<style scoped>\n",
       "    .dataframe tbody tr th:only-of-type {\n",
       "        vertical-align: middle;\n",
       "    }\n",
       "\n",
       "    .dataframe tbody tr th {\n",
       "        vertical-align: top;\n",
       "    }\n",
       "\n",
       "    .dataframe thead th {\n",
       "        text-align: right;\n",
       "    }\n",
       "</style>\n",
       "<table border=\"1\" class=\"dataframe\">\n",
       "  <thead>\n",
       "    <tr style=\"text-align: right;\">\n",
       "      <th></th>\n",
       "      <th>PassengerId</th>\n",
       "      <th>Survived</th>\n",
       "      <th>Pclass</th>\n",
       "      <th>Name</th>\n",
       "      <th>Sex</th>\n",
       "      <th>Age</th>\n",
       "      <th>SibSp</th>\n",
       "      <th>Parch</th>\n",
       "      <th>Ticket</th>\n",
       "      <th>Fare</th>\n",
       "      <th>Cabin</th>\n",
       "      <th>Embarked</th>\n",
       "    </tr>\n",
       "  </thead>\n",
       "  <tbody>\n",
       "    <tr>\n",
       "      <th>0</th>\n",
       "      <td>1</td>\n",
       "      <td>0</td>\n",
       "      <td>3</td>\n",
       "      <td>Braund, Mr. Owen Harris</td>\n",
       "      <td>male</td>\n",
       "      <td>22.0</td>\n",
       "      <td>1</td>\n",
       "      <td>0</td>\n",
       "      <td>A/5 21171</td>\n",
       "      <td>7.2500</td>\n",
       "      <td>NaN</td>\n",
       "      <td>S</td>\n",
       "    </tr>\n",
       "    <tr>\n",
       "      <th>1</th>\n",
       "      <td>2</td>\n",
       "      <td>1</td>\n",
       "      <td>1</td>\n",
       "      <td>Cumings, Mrs. John Bradley (Florence Briggs Th...</td>\n",
       "      <td>female</td>\n",
       "      <td>38.0</td>\n",
       "      <td>1</td>\n",
       "      <td>0</td>\n",
       "      <td>PC 17599</td>\n",
       "      <td>71.2833</td>\n",
       "      <td>C85</td>\n",
       "      <td>C</td>\n",
       "    </tr>\n",
       "    <tr>\n",
       "      <th>2</th>\n",
       "      <td>3</td>\n",
       "      <td>1</td>\n",
       "      <td>3</td>\n",
       "      <td>Heikkinen, Miss. Laina</td>\n",
       "      <td>female</td>\n",
       "      <td>26.0</td>\n",
       "      <td>0</td>\n",
       "      <td>0</td>\n",
       "      <td>STON/O2. 3101282</td>\n",
       "      <td>7.9250</td>\n",
       "      <td>NaN</td>\n",
       "      <td>S</td>\n",
       "    </tr>\n",
       "    <tr>\n",
       "      <th>3</th>\n",
       "      <td>4</td>\n",
       "      <td>1</td>\n",
       "      <td>1</td>\n",
       "      <td>Futrelle, Mrs. Jacques Heath (Lily May Peel)</td>\n",
       "      <td>female</td>\n",
       "      <td>35.0</td>\n",
       "      <td>1</td>\n",
       "      <td>0</td>\n",
       "      <td>113803</td>\n",
       "      <td>53.1000</td>\n",
       "      <td>C123</td>\n",
       "      <td>S</td>\n",
       "    </tr>\n",
       "    <tr>\n",
       "      <th>4</th>\n",
       "      <td>5</td>\n",
       "      <td>0</td>\n",
       "      <td>3</td>\n",
       "      <td>Allen, Mr. William Henry</td>\n",
       "      <td>male</td>\n",
       "      <td>35.0</td>\n",
       "      <td>0</td>\n",
       "      <td>0</td>\n",
       "      <td>373450</td>\n",
       "      <td>8.0500</td>\n",
       "      <td>NaN</td>\n",
       "      <td>S</td>\n",
       "    </tr>\n",
       "  </tbody>\n",
       "</table>\n",
       "</div>"
      ],
      "text/plain": [
       "   PassengerId  Survived  Pclass  \\\n",
       "0            1         0       3   \n",
       "1            2         1       1   \n",
       "2            3         1       3   \n",
       "3            4         1       1   \n",
       "4            5         0       3   \n",
       "\n",
       "                                                Name     Sex   Age  SibSp  \\\n",
       "0                            Braund, Mr. Owen Harris    male  22.0      1   \n",
       "1  Cumings, Mrs. John Bradley (Florence Briggs Th...  female  38.0      1   \n",
       "2                             Heikkinen, Miss. Laina  female  26.0      0   \n",
       "3       Futrelle, Mrs. Jacques Heath (Lily May Peel)  female  35.0      1   \n",
       "4                           Allen, Mr. William Henry    male  35.0      0   \n",
       "\n",
       "   Parch            Ticket     Fare Cabin Embarked  \n",
       "0      0         A/5 21171   7.2500   NaN        S  \n",
       "1      0          PC 17599  71.2833   C85        C  \n",
       "2      0  STON/O2. 3101282   7.9250   NaN        S  \n",
       "3      0            113803  53.1000  C123        S  \n",
       "4      0            373450   8.0500   NaN        S  "
      ]
     },
     "execution_count": 5,
     "metadata": {},
     "output_type": "execute_result"
    }
   ],
   "source": [
    "# See what the unmodified table looks like\n",
    "df.head()"
   ]
  },
  {
   "cell_type": "markdown",
   "id": "6113a5b9",
   "metadata": {
    "_cell_guid": "b7969b7f-7fdb-4ac8-a63b-dd1006152503",
    "_uuid": "979c0d04-e82c-4feb-9e75-d847a34c0009",
    "collapsed": false,
    "jupyter": {
     "outputs_hidden": false
    },
    "papermill": {
     "duration": 0.00611,
     "end_time": "2025-08-19T10:50:46.107577",
     "exception": false,
     "start_time": "2025-08-19T10:50:46.101467",
     "status": "completed"
    },
    "tags": []
   },
   "source": [
    "### Exploratory Data Analysis\n",
    "Visualize missing values, distributions, and survival relationships before cleaning or feature engineering."
   ]
  },
  {
   "cell_type": "code",
   "execution_count": 6,
   "id": "09d71b6e",
   "metadata": {
    "_cell_guid": "bc583f21-41af-4c37-93a7-1192539d12cf",
    "_uuid": "dbf91527-c318-44f0-955e-ac32488c8000",
    "collapsed": false,
    "execution": {
     "iopub.execute_input": "2025-08-19T10:50:46.121400Z",
     "iopub.status.busy": "2025-08-19T10:50:46.121096Z",
     "iopub.status.idle": "2025-08-19T10:50:46.128164Z",
     "shell.execute_reply": "2025-08-19T10:50:46.126841Z"
    },
    "jupyter": {
     "outputs_hidden": false
    },
    "papermill": {
     "duration": 0.015822,
     "end_time": "2025-08-19T10:50:46.129633",
     "exception": false,
     "start_time": "2025-08-19T10:50:46.113811",
     "status": "completed"
    },
    "tags": []
   },
   "outputs": [
    {
     "name": "stdout",
     "output_type": "stream",
     "text": [
      "Missing values per column:\n",
      " PassengerId      0\n",
      "Survived         0\n",
      "Pclass           0\n",
      "Name             0\n",
      "Sex              0\n",
      "Age            177\n",
      "SibSp            0\n",
      "Parch            0\n",
      "Ticket           0\n",
      "Fare             0\n",
      "Cabin          687\n",
      "Embarked         2\n",
      "dtype: int64\n"
     ]
    }
   ],
   "source": [
    "# Check missing values\n",
    "print(\"Missing values per column:\\n\", df.isnull().sum())"
   ]
  },
  {
   "cell_type": "code",
   "execution_count": 7,
   "id": "174877a0",
   "metadata": {
    "_cell_guid": "308d7294-3e61-45fa-8889-e1bfb2fd3a0a",
    "_uuid": "0ac2e748-4da0-4b91-879e-81e4326f3991",
    "collapsed": false,
    "execution": {
     "iopub.execute_input": "2025-08-19T10:50:46.144135Z",
     "iopub.status.busy": "2025-08-19T10:50:46.143773Z",
     "iopub.status.idle": "2025-08-19T10:50:46.381965Z",
     "shell.execute_reply": "2025-08-19T10:50:46.381004Z"
    },
    "jupyter": {
     "outputs_hidden": false
    },
    "papermill": {
     "duration": 0.247543,
     "end_time": "2025-08-19T10:50:46.383828",
     "exception": false,
     "start_time": "2025-08-19T10:50:46.136285",
     "status": "completed"
    },
    "tags": []
   },
   "outputs": [
    {
     "data": {
      "image/png": "[encoded data removed]",
      "text/plain": [
       "<Figure size 640x480 with 1 Axes>"
      ]
     },
     "metadata": {},
     "output_type": "display_data"
    }
   ],
   "source": [
    "# Survival count plot\n",
    "sns.countplot(x='Survived', data=df)\n",
    "plt.title(\"Survival Counts\")\n",
    "plt.show()"
   ]
  },
  {
   "cell_type": "code",
   "execution_count": 8,
   "id": "5d72d237",
   "metadata": {
    "_cell_guid": "cb396a76-cde2-44d3-8173-ba8fd96ba92a",
    "_uuid": "5778c9d2-16f0-463d-9a7e-7825b376742d",
    "collapsed": false,
    "execution": {
     "iopub.execute_input": "2025-08-19T10:50:46.399200Z",
     "iopub.status.busy": "2025-08-19T10:50:46.398816Z",
     "iopub.status.idle": "2025-08-19T10:50:46.555431Z",
     "shell.execute_reply": "2025-08-19T10:50:46.553921Z"
    },
    "jupyter": {
     "outputs_hidden": false
    },
    "papermill": {
     "duration": 0.166136,
     "end_time": "2025-08-19T10:50:46.557138",
     "exception": false,
     "start_time": "2025-08-19T10:50:46.391002",
     "status": "completed"
    },
    "tags": []
   },
   "outputs": [
    {
     "data": {
      "image/png": "[encoded data removed]",
      "text/plain": [
       "<Figure size 640x480 with 1 Axes>"
      ]
     },
     "metadata": {},
     "output_type": "display_data"
    }
   ],
   "source": [
    "# Survival by Sex\n",
    "sns.countplot(x='Survived', hue='Sex', data=df)\n",
    "plt.title(\"Survival by Sex\")\n",
    "plt.show()"
   ]
  },
  {
   "cell_type": "markdown",
   "id": "43d3aab1",
   "metadata": {
    "_cell_guid": "74e69498-50da-435f-a5f7-40399a27d115",
    "_uuid": "2ff2200f-91c1-4a66-84b7-d9d259459db7",
    "collapsed": false,
    "jupyter": {
     "outputs_hidden": false
    },
    "papermill": {
     "duration": 0.006931,
     "end_time": "2025-08-19T10:50:46.571440",
     "exception": false,
     "start_time": "2025-08-19T10:50:46.564509",
     "status": "completed"
    },
    "tags": []
   },
   "source": [
    "Observation: \n",
    "\n",
    "The plot shows a clear difference in survival rates between male and female passengers. Females had a significantly higher chance of survival compared to males, reflecting the \"women and children first\" evacuation policy on the Titanic. This indicates that Sex is an important predictor for survival."
   ]
  },
  {
   "cell_type": "code",
   "execution_count": 9,
   "id": "788e40e1",
   "metadata": {
    "_cell_guid": "ebd693fc-d399-410c-b7d8-5cd8627bd880",
    "_uuid": "cb115fe6-e4d6-406e-988e-9d846e1b3d02",
    "collapsed": false,
    "execution": {
     "iopub.execute_input": "2025-08-19T10:50:46.587793Z",
     "iopub.status.busy": "2025-08-19T10:50:46.586687Z",
     "iopub.status.idle": "2025-08-19T10:50:46.768474Z",
     "shell.execute_reply": "2025-08-19T10:50:46.767525Z"
    },
    "jupyter": {
     "outputs_hidden": false
    },
    "papermill": {
     "duration": 0.19143,
     "end_time": "2025-08-19T10:50:46.770005",
     "exception": false,
     "start_time": "2025-08-19T10:50:46.578575",
     "status": "completed"
    },
    "tags": []
   },
   "outputs": [
    {
     "data": {
      "image/png": "[encoded data removed]",
      "text/plain": [
       "<Figure size 640x480 with 1 Axes>"
      ]
     },
     "metadata": {},
     "output_type": "display_data"
    }
   ],
   "source": [
    "# Survival by Pclass\n",
    "sns.countplot(x='Survived', hue='Pclass', data=df)\n",
    "plt.title(\"Survival by Passenger Class\")\n",
    "plt.show()"
   ]
  },
  {
   "cell_type": "markdown",
   "id": "6d79c24c",
   "metadata": {
    "_cell_guid": "a251c64b-b9af-4bbf-9c1b-7ba285f8dd29",
    "_uuid": "0e4080f0-2f95-4bff-943c-4bfc86d8c733",
    "collapsed": false,
    "jupyter": {
     "outputs_hidden": false
    },
    "papermill": {
     "duration": 0.007226,
     "end_time": "2025-08-19T10:50:46.785486",
     "exception": false,
     "start_time": "2025-08-19T10:50:46.778260",
     "status": "completed"
    },
    "tags": []
   },
   "source": [
    "Observation: \n",
    "\n",
    "Passengers in higher classes (1st class) had a higher survival rate, while those in 3rd class were less likely to survive. This reflects differences in cabin locations, access to lifeboats, and socio-economic status. Pclass is therefore a meaningful feature for predicting survival."
   ]
  },
  {
   "cell_type": "code",
   "execution_count": 10,
   "id": "bcdd9433",
   "metadata": {
    "_cell_guid": "31bb6221-b95f-4fe8-b10f-8effcb8c5380",
    "_uuid": "62e7f71f-ddb1-43aa-9267-934b9df6bd44",
    "collapsed": false,
    "execution": {
     "iopub.execute_input": "2025-08-19T10:50:46.801395Z",
     "iopub.status.busy": "2025-08-19T10:50:46.801072Z",
     "iopub.status.idle": "2025-08-19T10:50:47.093091Z",
     "shell.execute_reply": "2025-08-19T10:50:47.092070Z"
    },
    "jupyter": {
     "outputs_hidden": false
    },
    "papermill": {
     "duration": 0.302374,
     "end_time": "2025-08-19T10:50:47.095104",
     "exception": false,
     "start_time": "2025-08-19T10:50:46.792730",
     "status": "completed"
    },
    "tags": []
   },
   "outputs": [
    {
     "data": {
      "image/png": "[encoded data removed]",
      "text/plain": [
       "<Figure size 640x480 with 1 Axes>"
      ]
     },
     "metadata": {},
     "output_type": "display_data"
    }
   ],
   "source": [
    "# Age distribution\n",
    "sns.histplot(df['Age'], bins=30, kde=True)\n",
    "plt.title(\"Age Distribution\")\n",
    "plt.show()"
   ]
  },
  {
   "cell_type": "markdown",
   "id": "1464d1a5",
   "metadata": {
    "_cell_guid": "44755b1e-1421-40e1-aaa6-ebc1d9baf32a",
    "_uuid": "88b7dd74-f0c9-4122-b23e-f5205c6321b2",
    "collapsed": false,
    "jupyter": {
     "outputs_hidden": false
    },
    "papermill": {
     "duration": 0.008009,
     "end_time": "2025-08-19T10:50:47.114536",
     "exception": false,
     "start_time": "2025-08-19T10:50:47.106527",
     "status": "completed"
    },
    "tags": []
   },
   "source": [
    "Observation:\n",
    "\n",
    "\n",
    "The Age distribution shows a slight skew toward passengers aged 20–30, with fewer children and elderly passengers.\n",
    "\n",
    "Why median was used:\n",
    "\n",
    "\n",
    "We filled missing Age values with the median instead of the mean because the median is less sensitive to outliers. The Titanic Age distribution is slightly skewed, so the median better represents a “typical” passenger age than the mean."
   ]
  },
  {
   "cell_type": "code",
   "execution_count": 11,
   "id": "5897611d",
   "metadata": {
    "_cell_guid": "fcb3728f-8814-4c69-90e8-8de78ee72f06",
    "_uuid": "7ce10977-acde-4c3c-b29c-6f8d02257650",
    "collapsed": false,
    "execution": {
     "iopub.execute_input": "2025-08-19T10:50:47.132040Z",
     "iopub.status.busy": "2025-08-19T10:50:47.131684Z",
     "iopub.status.idle": "2025-08-19T10:50:47.386350Z",
     "shell.execute_reply": "2025-08-19T10:50:47.385356Z"
    },
    "jupyter": {
     "outputs_hidden": false
    },
    "papermill": {
     "duration": 0.265525,
     "end_time": "2025-08-19T10:50:47.387996",
     "exception": false,
     "start_time": "2025-08-19T10:50:47.122471",
     "status": "completed"
    },
    "tags": []
   },
   "outputs": [
    {
     "data": {
      "image/png": "[encoded data removed]",
      "text/plain": [
       "<Figure size 640x480 with 1 Axes>"
      ]
     },
     "metadata": {},
     "output_type": "display_data"
    }
   ],
   "source": [
    "# Fare distribution\n",
    "sns.histplot(df['Fare'], bins=30, kde=True)\n",
    "plt.title(\"Fare Distribution\")\n",
    "plt.show()"
   ]
  },
  {
   "cell_type": "markdown",
   "id": "9024dc00",
   "metadata": {
    "_cell_guid": "543b71cc-ec5f-4cfa-8b20-0b87a3001ab2",
    "_uuid": "b104375a-1890-4e16-a239-d641c5c4acdc",
    "collapsed": false,
    "jupyter": {
     "outputs_hidden": false
    },
    "papermill": {
     "duration": 0.008413,
     "end_time": "2025-08-19T10:50:47.405082",
     "exception": false,
     "start_time": "2025-08-19T10:50:47.396669",
     "status": "completed"
    },
    "tags": []
   },
   "source": [
    "Observation:\n",
    "\n",
    "\n",
    "The Fare distribution shows a large peak at zero, corresponding to passengers who traveled for free or on very cheap tickets, and then rapidly decreases. Most passengers paid relatively low fares, while a small number paid very high fares, creating a right-skewed distribution.\n",
    "\n",
    "Why median was used:\n",
    "\n",
    "\n",
    "Because the Fare distribution is heavily skewed with extreme high values, we filled missing Fare values with the median to avoid being affected by these outliers. The median provides a more robust measure of a “typical” fare."
   ]
  },
  {
   "cell_type": "markdown",
   "id": "7a78fec4",
   "metadata": {
    "_cell_guid": "d54e0fd0-4d84-4540-b95f-466a5e8954ce",
    "_uuid": "23a5623d-4889-4fd6-97a4-f039b03e04b5",
    "collapsed": false,
    "jupyter": {
     "outputs_hidden": false
    },
    "papermill": {
     "duration": 0.008224,
     "end_time": "2025-08-19T10:50:47.421863",
     "exception": false,
     "start_time": "2025-08-19T10:50:47.413639",
     "status": "completed"
    },
    "tags": []
   },
   "source": [
    "### Handle Missing Values\n",
    "Check for missing values and fill them appropriately."
   ]
  },
  {
   "cell_type": "code",
   "execution_count": 12,
   "id": "fe3110c8",
   "metadata": {
    "_cell_guid": "e1790b6d-38d2-4e4f-be3b-4fd70c126567",
    "_uuid": "3cce0609-4ccc-42da-816a-64ab096a32c8",
    "collapsed": false,
    "execution": {
     "iopub.execute_input": "2025-08-19T10:50:47.440542Z",
     "iopub.status.busy": "2025-08-19T10:50:47.439827Z",
     "iopub.status.idle": "2025-08-19T10:50:47.447727Z",
     "shell.execute_reply": "2025-08-19T10:50:47.446733Z"
    },
    "jupyter": {
     "outputs_hidden": false
    },
    "papermill": {
     "duration": 0.018888,
     "end_time": "2025-08-19T10:50:47.449285",
     "exception": false,
     "start_time": "2025-08-19T10:50:47.430397",
     "status": "completed"
    },
    "tags": []
   },
   "outputs": [],
   "source": [
    "# Fill Age with median\n",
    "df['Age'] = df['Age'].fillna(df['Age'].median())\n",
    "\n",
    "# Fill Embarked with mode\n",
    "df['Embarked'] = df['Embarked'].fillna(df['Embarked'].mode()[0])\n",
    "\n",
    "# Fill Fare with median (in case of test data)\n",
    "df['Fare'] = df['Fare'].fillna(df['Fare'].median())\n",
    "\n",
    "# Drop Cabin (we’ll make HasCabin later)\n",
    "# df['Cabin'] = df['Cabin']  # handled in feature engineering"
   ]
  },
  {
   "cell_type": "code",
   "execution_count": 13,
   "id": "c15a2118",
   "metadata": {
    "_cell_guid": "1005ab1a-0743-46d3-9e36-fb44a6753c99",
    "_uuid": "af3631f6-a153-48d0-a9b3-aebbc9b7dfce",
    "collapsed": false,
    "execution": {
     "iopub.execute_input": "2025-08-19T10:50:47.467787Z",
     "iopub.status.busy": "2025-08-19T10:50:47.467480Z",
     "iopub.status.idle": "2025-08-19T10:50:47.657816Z",
     "shell.execute_reply": "2025-08-19T10:50:47.657022Z"
    },
    "jupyter": {
     "outputs_hidden": false
    },
    "papermill": {
     "duration": 0.201609,
     "end_time": "2025-08-19T10:50:47.659542",
     "exception": false,
     "start_time": "2025-08-19T10:50:47.457933",
     "status": "completed"
    },
    "tags": []
   },
   "outputs": [
    {
     "data": {
      "image/png": "[encoded data removed]",
      "text/plain": [
       "<Figure size 640x480 with 1 Axes>"
      ]
     },
     "metadata": {},
     "output_type": "display_data"
    }
   ],
   "source": [
    "# Assuming df is your DataFrame\n",
    "plt.hist(df['Age'].dropna(), bins=20, edgecolor='black')\n",
    "plt.xlabel('Age')\n",
    "plt.ylabel('Count')\n",
    "plt.title('Age Distribution')\n",
    "plt.show()"
   ]
  },
  {
   "cell_type": "markdown",
   "id": "9a577bab",
   "metadata": {
    "_cell_guid": "f28b7a02-d83f-4789-96a8-55ea5457101b",
    "_uuid": "a28c9f78-2915-471b-8a80-0575fdd6189e",
    "collapsed": false,
    "jupyter": {
     "outputs_hidden": false
    },
    "papermill": {
     "duration": 0.008545,
     "end_time": "2025-08-19T10:50:47.676915",
     "exception": false,
     "start_time": "2025-08-19T10:50:47.668370",
     "status": "completed"
    },
    "tags": []
   },
   "source": [
    "### Prepare Features BEFORE Feature Engineering\n",
    "Create a baseline feature set using basic features only."
   ]
  },
  {
   "cell_type": "code",
   "execution_count": 14,
   "id": "bae8b432",
   "metadata": {
    "_cell_guid": "55df2d3e-970c-443e-bbfc-08dd5554122d",
    "_uuid": "434a52ae-1aa0-48d3-ad47-493c9c699767",
    "collapsed": false,
    "execution": {
     "iopub.execute_input": "2025-08-19T10:50:47.696804Z",
     "iopub.status.busy": "2025-08-19T10:50:47.696507Z",
     "iopub.status.idle": "2025-08-19T10:50:47.712074Z",
     "shell.execute_reply": "2025-08-19T10:50:47.711164Z"
    },
    "jupyter": {
     "outputs_hidden": false
    },
    "papermill": {
     "duration": 0.027481,
     "end_time": "2025-08-19T10:50:47.713590",
     "exception": false,
     "start_time": "2025-08-19T10:50:47.686109",
     "status": "completed"
    },
    "tags": []
   },
   "outputs": [],
   "source": [
    "X_base = df[['Pclass', 'Sex', 'Age', 'SibSp', 'Parch', 'Fare', 'Embarked']]\n",
    "\n",
    "# Encode Sex and Embarked for baseline\n",
    "X_base = pd.get_dummies(X_base, columns=['Sex','Embarked'], drop_first=True)\n",
    "\n",
    "y = df['Survived']\n",
    "\n",
    "# Single train/test split\n",
    "X_train_base, X_test_base, y_train, y_test = train_test_split(\n",
    "    X_base, y, test_size=0.2, random_state=42\n",
    ")"
   ]
  },
  {
   "cell_type": "markdown",
   "id": "4e65b44e",
   "metadata": {
    "_cell_guid": "d0b46926-ce3f-41da-ba30-6b4d6f90fbb9",
    "_uuid": "89868e7f-a340-4b2e-93ea-f7cdf17b93b9",
    "collapsed": false,
    "jupyter": {
     "outputs_hidden": false
    },
    "papermill": {
     "duration": 0.008825,
     "end_time": "2025-08-19T10:50:47.731421",
     "exception": false,
     "start_time": "2025-08-19T10:50:47.722596",
     "status": "completed"
    },
    "tags": []
   },
   "source": [
    "### Random Forest BEFORE Feature Engineering\n",
    "Train a Random Forest classifier on the baseline features and evaluate accuracy."
   ]
  },
  {
   "cell_type": "code",
   "execution_count": 15,
   "id": "4444e7c0",
   "metadata": {
    "_cell_guid": "e09a488a-9bcd-4c60-9861-d0fdcd51c884",
    "_uuid": "1a239ac6-2341-4fc1-91c3-eda81d384d20",
    "collapsed": false,
    "execution": {
     "iopub.execute_input": "2025-08-19T10:50:47.817756Z",
     "iopub.status.busy": "2025-08-19T10:50:47.817435Z",
     "iopub.status.idle": "2025-08-19T10:50:48.007562Z",
     "shell.execute_reply": "2025-08-19T10:50:48.006530Z"
    },
    "jupyter": {
     "outputs_hidden": false
    },
    "papermill": {
     "duration": 0.269215,
     "end_time": "2025-08-19T10:50:48.009432",
     "exception": false,
     "start_time": "2025-08-19T10:50:47.740217",
     "status": "completed"
    },
    "tags": []
   },
   "outputs": [
    {
     "name": "stdout",
     "output_type": "stream",
     "text": [
      "Random Forest Accuracy BEFORE feature engineering: 0.8212290502793296\n"
     ]
    }
   ],
   "source": [
    "rf = RandomForestClassifier(n_estimators=100, random_state=42)\n",
    "rf.fit(X_train_base, y_train)\n",
    "preds_base = rf.predict(X_test_base)\n",
    "print(\"Random Forest Accuracy BEFORE feature engineering:\", accuracy_score(y_test, preds_base))"
   ]
  },
  {
   "cell_type": "markdown",
   "id": "6c1d8d3c",
   "metadata": {
    "_cell_guid": "968da90a-61b5-4737-948d-4274ad6ee140",
    "_uuid": "371c7157-37fe-41b1-a1f1-9f2566ef60de",
    "collapsed": false,
    "jupyter": {
     "outputs_hidden": false
    },
    "papermill": {
     "duration": 0.008726,
     "end_time": "2025-08-19T10:50:48.027401",
     "exception": false,
     "start_time": "2025-08-19T10:50:48.018675",
     "status": "completed"
    },
    "tags": []
   },
   "source": [
    "### Feature Engineering\n",
    "Enhance the dataset with additional meaningful features:\n",
    "\n",
    "1. FamilySize = SibSp + Parch\n",
    "2. IsAlone = 1 if no family aboard\n",
    "3. HasCabin = 1 if cabin information exists\n",
    "4. Title = honorific extracted from passenger name (Mr, Mrs, Miss, Master, Rare)\n",
    "\n",
    "Then, perform one-hot encoding for categorical features. Feature engineering helps the model capture more nuanced patterns"
   ]
  },
  {
   "cell_type": "code",
   "execution_count": 16,
   "id": "174c69f6",
   "metadata": {
    "_cell_guid": "1aacd39d-86a4-4848-ad61-e18cab4d39eb",
    "_uuid": "dbfcf7b8-184f-43d7-a021-8f4fd06c72a8",
    "collapsed": false,
    "execution": {
     "iopub.execute_input": "2025-08-19T10:50:48.046774Z",
     "iopub.status.busy": "2025-08-19T10:50:48.046467Z",
     "iopub.status.idle": "2025-08-19T10:50:48.072448Z",
     "shell.execute_reply": "2025-08-19T10:50:48.071461Z"
    },
    "jupyter": {
     "outputs_hidden": false
    },
    "papermill": {
     "duration": 0.038019,
     "end_time": "2025-08-19T10:50:48.074461",
     "exception": false,
     "start_time": "2025-08-19T10:50:48.036442",
     "status": "completed"
    },
    "tags": []
   },
   "outputs": [],
   "source": [
    "# Family size and alone\n",
    "df['FamilySize'] = df['SibSp'] + df['Parch']\n",
    "df['IsAlone'] = (df['FamilySize'] == 0).astype(int)\n",
    "\n",
    "# HasCabin\n",
    "df['HasCabin'] = df['Cabin'].notnull().astype(int)\n",
    "df = df.drop('Cabin', axis=1)\n",
    "\n",
    "# Extract Title\n",
    "df['Title'] = df['Name'].str.extract(' ([A-Za-z]+)\\.', expand=False)\n",
    "df['Title'] = df['Title'].replace(['Mlle','Ms'],'Miss').replace('Mme','Mrs')\n",
    "rare_titles = df['Title'].value_counts()[df['Title'].value_counts() < 10].index\n",
    "df['Title'] = df['Title'].replace(rare_titles, 'Rare')\n",
    "\n",
    "# One-hot encode categorical features\n",
    "df = pd.get_dummies(df, columns=['Sex','Embarked','Title'], drop_first=True)"
   ]
  },
  {
   "cell_type": "markdown",
   "id": "baf0ad9e",
   "metadata": {
    "_cell_guid": "286e14af-9340-4f4d-bb7f-46281a164f23",
    "_uuid": "24135184-bf92-490c-be68-8c2fdbbf3fcd",
    "collapsed": false,
    "jupyter": {
     "outputs_hidden": false
    },
    "papermill": {
     "duration": 0.008753,
     "end_time": "2025-08-19T10:50:48.092804",
     "exception": false,
     "start_time": "2025-08-19T10:50:48.084051",
     "status": "completed"
    },
    "tags": []
   },
   "source": [
    "### Prepare Features AFTER Feature Engineering\n",
    "Build the new feature matrix with engineered features and align it with the previous train/test split."
   ]
  },
  {
   "cell_type": "code",
   "execution_count": 17,
   "id": "8d48c5ad",
   "metadata": {
    "_cell_guid": "09fd821d-6065-428e-90cd-e3b676ee92ed",
    "_uuid": "3f0376b9-5de4-4bc4-9260-e64cd396b341",
    "collapsed": false,
    "execution": {
     "iopub.execute_input": "2025-08-19T10:50:48.112558Z",
     "iopub.status.busy": "2025-08-19T10:50:48.112258Z",
     "iopub.status.idle": "2025-08-19T10:50:48.119943Z",
     "shell.execute_reply": "2025-08-19T10:50:48.119049Z"
    },
    "jupyter": {
     "outputs_hidden": false
    },
    "papermill": {
     "duration": 0.019977,
     "end_time": "2025-08-19T10:50:48.121841",
     "exception": false,
     "start_time": "2025-08-19T10:50:48.101864",
     "status": "completed"
    },
    "tags": []
   },
   "outputs": [],
   "source": [
    "X_fe = df.drop(['Survived','Name','Ticket'], axis=1)\n",
    "\n",
    "# Align train/test splits with same indices\n",
    "X_train_fe = X_fe.loc[X_train_base.index]\n",
    "X_test_fe = X_fe.loc[X_test_base.index]"
   ]
  },
  {
   "cell_type": "markdown",
   "id": "0fe767e1",
   "metadata": {
    "_cell_guid": "fe7707f9-135b-477c-b6f0-0b36d9fb6e59",
    "_uuid": "caecb0d0-102a-48e0-b641-82ba7c43f511",
    "collapsed": false,
    "jupyter": {
     "outputs_hidden": false
    },
    "papermill": {
     "duration": 0.009869,
     "end_time": "2025-08-19T10:50:48.141686",
     "exception": false,
     "start_time": "2025-08-19T10:50:48.131817",
     "status": "completed"
    },
    "tags": []
   },
   "source": [
    "### Random Forest AFTER Feature Engineering\n",
    "Train the same Random Forest classifier on the improved feature set and evaluate accuracy."
   ]
  },
  {
   "cell_type": "code",
   "execution_count": 18,
   "id": "532ffdf0",
   "metadata": {
    "_cell_guid": "f677c705-9922-4807-b14f-05305e7ea558",
    "_uuid": "387e3be5-ff81-4cd1-ae20-90c72ddcdafb",
    "collapsed": false,
    "execution": {
     "iopub.execute_input": "2025-08-19T10:50:48.162610Z",
     "iopub.status.busy": "2025-08-19T10:50:48.162302Z",
     "iopub.status.idle": "2025-08-19T10:50:48.376810Z",
     "shell.execute_reply": "2025-08-19T10:50:48.375569Z"
    },
    "jupyter": {
     "outputs_hidden": false
    },
    "papermill": {
     "duration": 0.226784,
     "end_time": "2025-08-19T10:50:48.378554",
     "exception": false,
     "start_time": "2025-08-19T10:50:48.151770",
     "status": "completed"
    },
    "tags": []
   },
   "outputs": [
    {
     "name": "stdout",
     "output_type": "stream",
     "text": [
      "Random Forest Accuracy AFTER feature engineering: 0.8547486033519553\n"
     ]
    }
   ],
   "source": [
    "rf.fit(X_train_fe, y_train)\n",
    "preds_fe = rf.predict(X_test_fe)\n",
    "print(\"Random Forest Accuracy AFTER feature engineering:\", accuracy_score(y_test, preds_fe))"
   ]
  },
  {
   "cell_type": "markdown",
   "id": "315b642f",
   "metadata": {
    "_cell_guid": "d5ff0e28-4588-43e1-9afc-0ce3d8cbc673",
    "_uuid": "1d306beb-2a3b-4d25-93b6-1ec653d3c551",
    "collapsed": false,
    "jupyter": {
     "outputs_hidden": false
    },
    "papermill": {
     "duration": 0.009107,
     "end_time": "2025-08-19T10:50:48.396779",
     "exception": false,
     "start_time": "2025-08-19T10:50:48.387672",
     "status": "completed"
    },
    "tags": []
   },
   "source": [
    "## Doing the same on train.csv and save it as submission.csv"
   ]
  },
  {
   "cell_type": "code",
   "execution_count": 19,
   "id": "c97d030e",
   "metadata": {
    "_cell_guid": "eddb6fa0-41ea-4a3b-aa47-fb8d08ec46c6",
    "_uuid": "0f7ea931-044d-41c3-a708-d0ac1c7fb4b6",
    "collapsed": false,
    "execution": {
     "iopub.execute_input": "2025-08-19T10:50:48.416757Z",
     "iopub.status.busy": "2025-08-19T10:50:48.416425Z",
     "iopub.status.idle": "2025-08-19T10:50:48.464305Z",
     "shell.execute_reply": "2025-08-19T10:50:48.463263Z"
    },
    "jupyter": {
     "outputs_hidden": false
    },
    "papermill": {
     "duration": 0.060203,
     "end_time": "2025-08-19T10:50:48.465936",
     "exception": false,
     "start_time": "2025-08-19T10:50:48.405733",
     "status": "completed"
    },
    "tags": []
   },
   "outputs": [
    {
     "name": "stdout",
     "output_type": "stream",
     "text": [
      "Submission saved as submission.csv\n"
     ]
    }
   ],
   "source": [
    "# --- Prepare test data for submission ---\n",
    "test_df = pd.read_csv(\"/kaggle/input/titanic/test.csv\")\n",
    "test_df.replace([np.inf, -np.inf], np.nan, inplace=True)\n",
    "\n",
    "# Fill missing values using train statistics\n",
    "test_df['Age'] = test_df['Age'].fillna(df['Age'].median())\n",
    "test_df['Fare'] = test_df['Fare'].fillna(df['Fare'].median())\n",
    "\n",
    "# Feature engineering (same as training)\n",
    "test_df['FamilySize'] = test_df['SibSp'] + test_df['Parch']\n",
    "test_df['IsAlone'] = (test_df['FamilySize'] == 0).astype(int)\n",
    "test_df['HasCabin'] = test_df['Cabin'].notnull().astype(int)\n",
    "test_df['Title'] = test_df['Name'].str.extract(' ([A-Za-z]+)\\.', expand=False)\n",
    "test_df['Title'] = test_df['Title'].replace(['Mlle','Ms'],'Miss').replace('Mme','Mrs')\n",
    "rare_titles_test = test_df['Title'].value_counts()[test_df['Title'].value_counts() < 10].index\n",
    "test_df['Title'] = test_df['Title'].replace(rare_titles_test, 'Rare')\n",
    "\n",
    "# Drop unused columns\n",
    "test_df = test_df.drop(['Cabin','Name','Ticket'], axis=1)\n",
    "\n",
    "# One-hot encode categorical features\n",
    "test_df = pd.get_dummies(test_df, columns=['Sex','Embarked','Title'], drop_first=True)\n",
    "\n",
    "# Align columns with training features\n",
    "X_submit = test_df.reindex(columns=X_fe.columns, fill_value=0)\n",
    "\n",
    "# Predict using previously trained rf\n",
    "preds_submit = rf.predict(X_submit)\n",
    "\n",
    "# Create submission file\n",
    "submission = pd.DataFrame({\n",
    "    'PassengerId': test_df['PassengerId'],\n",
    "    'Survived': preds_submit\n",
    "})\n",
    "\n",
    "submission.to_csv(\"submission.csv\", index=False)\n",
    "print(\"Submission saved as submission.csv\")"
   ]
  }
 ],
 "metadata": {
  "kaggle": {
   "accelerator": "none",
   "dataSources": [
    {
     "databundleVersionId": 26502,
     "sourceId": 3136,
     "sourceType": "competition"
    }
   ],
   "dockerImageVersionId": 31089,
   "isGpuEnabled": false,
   "isInternetEnabled": true,
   "language": "python",
   "sourceType": "notebook"
  },
  "kernelspec": {
   "display_name": "Python 3",
   "language": "python",
   "name": "python3"
  },
  "language_info": {
   "codemirror_mode": {
    "name": "ipython",
    "version": 3
   },
   "file_extension": ".py",
   "mimetype": "text/x-python",
   "name": "python",
   "nbconvert_exporter": "python",
   "pygments_lexer": "ipython3",
   "version": "3.11.13"
  },
  "papermill": {
   "default_parameters": {},
   "duration": 13.503633,
   "end_time": "2025-08-19T10:50:49.296571",
   "environment_variables": {},
   "exception": null,
   "input_path": "__notebook__.ipynb",
   "output_path": "__notebook__.ipynb",
   "parameters": {},
   "start_time": "2025-08-19T10:50:35.792938",
   "version": "2.6.0"
  }
 },
 "nbformat": 4,
 "nbformat_minor": 5
}
